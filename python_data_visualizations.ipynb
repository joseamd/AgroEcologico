{
  "cells": [
    {
      "cell_type": "markdown",
      "metadata": {
        "id": "view-in-github",
        "colab_type": "text"
      },
      "source": [
        "<a href=\"https://colab.research.google.com/github/joseamd/AgroEcologico/blob/master/python_data_visualizations.ipynb\" target=\"_parent\"><img src=\"https://colab.research.google.com/assets/colab-badge.svg\" alt=\"Open In Colab\"/></a>"
      ]
    },
    {
      "cell_type": "markdown",
      "metadata": {
        "_cell_guid": "e748dd89-de20-44f2-a122-b2bb69fbab24",
        "_uuid": "a42ede279bffeecdddd64047e06fee4b9aed50c5",
        "id": "W59BZ_5_5IB1"
      },
      "source": [
        "## Notebook"
      ]
    },
    {
      "cell_type": "code",
      "source": [
        ""
      ],
      "metadata": {
        "id": "CsDEXwG_wRi_"
      },
      "execution_count": 2,
      "outputs": []
    },
    {
      "cell_type": "code",
      "execution_count": 1,
      "metadata": {
        "_cell_guid": "136008bf-b756-49c1-bc5e-81c1247b969d",
        "_uuid": "4a72555be32be45a318141821b58ceac28ffb0d7",
        "id": "lVJSUD095IB9"
      },
      "outputs": [],
      "source": [
        "# First, we'll import pandas, a data processing and CSV file I/O library\n",
        "import pandas as pd\n",
        "\n",
        "# We'll also import seaborn, a Python graphing library\n",
        "import warnings # current version of seaborn generates a bunch of warnings that we'll ignore\n",
        "warnings.filterwarnings(\"ignore\")\n",
        "import seaborn as sns\n",
        "import matplotlib.pyplot as plt\n",
        "sns.set(style=\"white\", color_codes=True)\n",
        "import numpy as np \n",
        "\n",
        "# procesamiento de datos\n",
        "import pandas as pd \n",
        "\n",
        "# visulizaciónn\n",
        "import seaborn as sns\n",
        "%matplotlib inline\n",
        "from matplotlib import pyplot as plt\n",
        "from matplotlib import style\n",
        "%matplotlib inline\n",
        "\n",
        "from __future__ import division\n",
        "from scipy.stats import pearsonr\n",
        "from sklearn.linear_model import LinearRegression\n",
        "#from sklearn import cross_validation, tree, linear_model\n",
        "from sklearn.model_selection import train_test_split\n",
        "\n",
        "#from sklearn.model_selection import train_test_split\n",
        "#from sklearn.cross_validation import ShuffleSplit\n",
        "from sklearn.metrics import explained_variance_score\n",
        "from sklearn.model_selection import learning_curve   \n",
        "from time import time\n",
        "from sklearn.metrics import r2_score\n",
        "\n",
        "\n",
        "\n",
        "\n",
        "\n",
        "from sklearn.preprocessing import StandardScaler, MinMaxScaler\n",
        "from sklearn import preprocessing\n",
        "min_max_scaler = preprocessing.MinMaxScaler()\n"
      ]
    },
    {
      "cell_type": "code",
      "source": [
        "data = pd.read_csv(\"data-set-beer.csv\", sep=\";\") \n",
        "data.head(20)"
      ],
      "metadata": {
        "id": "ibR-GTgf5T4h"
      },
      "execution_count": null,
      "outputs": []
    },
    {
      "cell_type": "code",
      "execution_count": null,
      "metadata": {
        "_cell_guid": "5dba36af-1bb8-49e5-9b49-1451f4136246",
        "_uuid": "ef33a54d1e704924d1eb29632728011d31bfb543",
        "id": "O8uVKnEe5ICB"
      },
      "outputs": [],
      "source": [
        "# Cuantos valores por cada tipo de cerveza\n",
        "data[\"Type_beer\"].value_counts()"
      ]
    },
    {
      "cell_type": "code",
      "execution_count": null,
      "metadata": {
        "_cell_guid": "128245d5-6f01-44cd-8b2f-8a49735ac552",
        "_uuid": "01cb1b0849f6c7e800c8798164741a8fdae53617",
        "id": "ot8fRPEL5ICE"
      },
      "outputs": [],
      "source": [
        "# We can look at an individual feature in Seaborn through a boxplot\n",
        "sns.boxplot(x=\"Type_beer\", y=\"Years_old\", data=data)"
      ]
    },
    {
      "cell_type": "code",
      "execution_count": null,
      "metadata": {
        "_cell_guid": "7351999e-4522-451f-b3f1-0031c3a88eaa",
        "_uuid": "fb9e2f61bf81478f21489f1219358e2b6fa164dd",
        "id": "G5SMpbZW5ICJ"
      },
      "outputs": [],
      "source": [
        "# Another useful seaborn plot is the pairplot, which shows the bivariate relation\n",
        "# between each pair of features\n",
        "# \n",
        "# From the pairplot, we'll see that the Iris-setosa species is separataed from the other\n",
        "# two across all feature combinations\n",
        "sns.pairplot(data.drop(\"Full_name\", axis=1), hue=\"Type_beer\", size=3)"
      ]
    },
    {
      "cell_type": "markdown",
      "metadata": {
        "_cell_guid": "0263903e-4c3f-41c5-adf6-a1a12c122ddb",
        "_uuid": "a47be9b234eb942e71425b3e00b741a41488ea33",
        "id": "lG3r1aKg5ICN"
      },
      "source": [
        "# Modelo"
      ]
    },
    {
      "cell_type": "code",
      "source": [
        "data.columns"
      ],
      "metadata": {
        "id": "_nfjbKn0BKjT"
      },
      "execution_count": null,
      "outputs": []
    },
    {
      "cell_type": "markdown",
      "source": [
        "#Seleccion de fatures y class"
      ],
      "metadata": {
        "id": "FNurwa6mSZcS"
      }
    },
    {
      "cell_type": "code",
      "source": [
        "features = ['Years_old', 'Gender', 'Lupulo','Alcohol']\n",
        "X = data[features] \n",
        "y = data['Type_beer']\n"
      ],
      "metadata": {
        "id": "moIYFcSYALYf"
      },
      "execution_count": null,
      "outputs": []
    },
    {
      "cell_type": "code",
      "source": [
        "X_train, X_test, y_train, y_test = train_test_split(X, y, test_size=0.3)"
      ],
      "metadata": {
        "id": "TzI1HQdbBb7K"
      },
      "execution_count": null,
      "outputs": []
    },
    {
      "cell_type": "markdown",
      "source": [
        "## entrenar modelos"
      ],
      "metadata": {
        "id": "zO7M-kZaPl_E"
      }
    },
    {
      "cell_type": "code",
      "source": [
        "from sklearn.neighbors import KNeighborsClassifier\n",
        "\n",
        "# use 5 neighors\n",
        "knn = KNeighborsClassifier(n_neighbors=12)\n",
        "\n",
        "# train the model\n",
        "knn.fit(X_train, y_train)"
      ],
      "metadata": {
        "id": "nRRQPF3lChTE"
      },
      "execution_count": null,
      "outputs": []
    },
    {
      "cell_type": "markdown",
      "source": [
        "## Metricas de evaluación"
      ],
      "metadata": {
        "id": "SXl5D9g0PqNo"
      }
    },
    {
      "cell_type": "code",
      "source": [
        "from sklearn.metrics import accuracy_score, confusion_matrix\n",
        "acc = knn.score(X_test, y_test)\n",
        "print(f'Accuracy: {(acc*100).round(2)}%')"
      ],
      "metadata": {
        "id": "8Ike0QWEBqKI"
      },
      "execution_count": null,
      "outputs": []
    },
    {
      "cell_type": "code",
      "source": [
        "pred = knn.predict(X_test)"
      ],
      "metadata": {
        "id": "ReUTR2qFDRQ9"
      },
      "execution_count": null,
      "outputs": []
    },
    {
      "cell_type": "code",
      "source": [
        "from sklearn.metrics import classification_report\n",
        "print(classification_report(y_test, pred))"
      ],
      "metadata": {
        "id": "vEVy5kjuCITi"
      },
      "execution_count": null,
      "outputs": []
    },
    {
      "cell_type": "code",
      "source": [
        "#edad, genero, lupulo, alchol\n",
        "knn.predict([[68, 1, 13.5, 0.06]])\n",
        "\n",
        "\n",
        "#Rorke Mattosoff\tJapan\t68\t1\tMalta_saborizada\t13.5\t0.06\n",
        "# Wat Pechell\tFrance\t46\t1\tMichelada\t0.4\t0.06\n"
      ],
      "metadata": {
        "id": "BLebjYJUDDQc"
      },
      "execution_count": null,
      "outputs": []
    },
    {
      "cell_type": "code",
      "source": [
        "edad = float(input(\"Entre la edad\"))\n",
        "genero = float(input(\"Entre el genero (0=F, 1=M)\"))\n",
        "lupulo = float(input(\"Entre el nivel de alchol (%)\"))\n",
        "alchol = float(input(\"Entre el nivel de alchol (%)\"))\n",
        "\n",
        "pred = model.predict([[edad,genero,lupulo,alchol]])\n",
        "\n",
        "print(pred)"
      ],
      "metadata": {
        "id": "btS9chbPEfx1"
      },
      "execution_count": null,
      "outputs": []
    },
    {
      "cell_type": "code",
      "source": [
        ""
      ],
      "metadata": {
        "id": "a1mXrnRXG2GD"
      },
      "execution_count": null,
      "outputs": []
    }
  ],
  "metadata": {
    "kernelspec": {
      "display_name": "Python 3",
      "language": "python",
      "name": "python3"
    },
    "language_info": {
      "codemirror_mode": {
        "name": "ipython",
        "version": 3
      },
      "file_extension": ".py",
      "mimetype": "text/x-python",
      "name": "python",
      "nbconvert_exporter": "python",
      "pygments_lexer": "ipython3",
      "version": "3.6.1"
    },
    "colab": {
      "name": "python-data-visualizations.ipynb",
      "provenance": [],
      "collapsed_sections": [],
      "include_colab_link": true
    }
  },
  "nbformat": 4,
  "nbformat_minor": 0
}